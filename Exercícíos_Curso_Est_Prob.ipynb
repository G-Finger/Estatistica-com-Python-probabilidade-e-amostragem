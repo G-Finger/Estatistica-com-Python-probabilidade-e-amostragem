{
  "nbformat": 4,
  "nbformat_minor": 0,
  "metadata": {
    "colab": {
      "provenance": [],
      "toc_visible": true
    },
    "kernelspec": {
      "name": "python3",
      "display_name": "Python 3"
    },
    "language_info": {
      "name": "python"
    }
  },
  "cells": [
    {
      "cell_type": "code",
      "execution_count": 4,
      "metadata": {
        "id": "i72b_2iv8zjg"
      },
      "outputs": [],
      "source": [
        "import numpy as np\n",
        "from scipy.special import comb"
      ]
    },
    {
      "cell_type": "markdown",
      "source": [
        "\n",
        "1. Suponha que acabamos de criar um jogo de loteria, chamado Show de prêmios da Alura. Neste nosso novo jogo, o apostador marca 20 números, dentre os 25 disponíveis no bilhete, e pode ganhar até 1 milhão de reais.\n",
        "\n",
        "Determine qual o número de combinações possíveis (espaço amostral) e a probabilidade de se ganhar o prêmio jogando apenas um bilhete (considere apenas quinze casas decimais).\n"
      ],
      "metadata": {
        "id": "vM8QqtEw89rj"
      }
    },
    {
      "cell_type": "code",
      "source": [
        "n = 25\n",
        "k = 20\n",
        "combinacoes = comb(n, k, exact=False)\n",
        "combinacoes\n",
        "probabilidade= 1/combinacoes\n",
        "probabilidade\n",
        "print(f'A probabilidade é {probabilidade*100:.2} % com {combinacoes} combinações')"
      ],
      "metadata": {
        "colab": {
          "base_uri": "https://localhost:8080/"
        },
        "id": "0xSXZqTY9A4_",
        "outputId": "b3699799-c2f7-4260-ea0b-55149de0f834"
      },
      "execution_count": 5,
      "outputs": [
        {
          "output_type": "stream",
          "name": "stdout",
          "text": [
            "A probabilidade é 0.0019 % com 53130.0 combinações\n"
          ]
        }
      ]
    },
    {
      "cell_type": "markdown",
      "source": [
        "2. Uma moeda, perfeitamente equilibrada, é lançada para o alto quatro vezes. Utilizando a distribuição binomial, obtenha a probabilidade de a moeda cair com a face coroa voltada para cima duas vezes.\n"
      ],
      "metadata": {
        "id": "8m9WsLwaG4ZT"
      }
    },
    {
      "cell_type": "code",
      "source": [
        "from scipy.stats import binom\n",
        "\n",
        "n = 4\n",
        "k = 2\n",
        "p = 0.5\n",
        "probabilidade = binom.pmf(k, n, p)\n",
        "probabilidade"
      ],
      "metadata": {
        "colab": {
          "base_uri": "https://localhost:8080/"
        },
        "id": "ZK9g1CJrG6kG",
        "outputId": "659085c5-4351-4cda-af8b-59b563c41f7a"
      },
      "execution_count": 6,
      "outputs": [
        {
          "output_type": "execute_result",
          "data": {
            "text/plain": [
              "0.375"
            ]
          },
          "metadata": {},
          "execution_count": 6
        }
      ]
    },
    {
      "cell_type": "markdown",
      "source": [
        "3. Um dado, perfeitamente equilibrado, é lançado para o alto dez vezes. Utilizando a distribuição binomial, obtenha a probabilidade de o dado cair com o número cinco voltado para cima pelo menos três vezes.\n"
      ],
      "metadata": {
        "id": "JH3n6CbJIZRX"
      }
    },
    {
      "cell_type": "code",
      "source": [
        "n = 10\n",
        "k = 3\n",
        "p = 1/6\n",
        "probabilidade = 1- binom.cdf(2, n, p)\n",
        "print(\"{0:.2%}\".format(probabilidade))"
      ],
      "metadata": {
        "colab": {
          "base_uri": "https://localhost:8080/"
        },
        "id": "UWLl_3jEIoZK",
        "outputId": "b2f7b5cd-2e46-4547-aa35-b8a7c71f3900"
      },
      "execution_count": 7,
      "outputs": [
        {
          "output_type": "stream",
          "name": "stdout",
          "text": [
            "22.48%\n"
          ]
        }
      ]
    },
    {
      "cell_type": "markdown",
      "source": [
        "4. Suponha que a probabilidade de um casal ter filhos com olhos azuis seja de 22%. Em 50 famílias, com 3 crianças cada uma, quantas podemos esperar que tenham dois filhos com olhos azuis?"
      ],
      "metadata": {
        "id": "8mnZyMfPLBPj"
      }
    },
    {
      "cell_type": "code",
      "source": [
        "p = 0.22\n",
        "n=3\n",
        "k=2\n",
        "probabilidade = binom.pmf(k, n, p)\n",
        "print(\"{0:.2%}\".format(probabilidade))\n",
        "familias_media= 50*probabilidade\n",
        "familias_media"
      ],
      "metadata": {
        "colab": {
          "base_uri": "https://localhost:8080/"
        },
        "id": "tKdVVcU6LE3B",
        "outputId": "9bacaaee-f04e-43e6-9c52-46dd79e96a3b"
      },
      "execution_count": 8,
      "outputs": [
        {
          "output_type": "stream",
          "name": "stdout",
          "text": [
            "11.33%\n"
          ]
        },
        {
          "output_type": "execute_result",
          "data": {
            "text/plain": [
              "5.662799999999996"
            ]
          },
          "metadata": {},
          "execution_count": 8
        }
      ]
    },
    {
      "cell_type": "markdown",
      "source": [
        "5. O número médio de clientes que entram em uma padaria por hora é igual a 20. Obtenha a probabilidade de, na próxima hora, entrarem exatamente 25 clientes.\n"
      ],
      "metadata": {
        "id": "TbqWVuuTTr6Z"
      }
    },
    {
      "cell_type": "code",
      "source": [
        "from scipy.stats import poisson\n",
        "mu = 20\n",
        "k = 25\n",
        "probabilidade = poisson.pmf(k,mu)\n",
        "print(f'A probabilidade de que entrem 20 clients na próxima hora na padoca é {probabilidade*100:.4} %')\n",
        "\n",
        "#ou\n",
        "\n",
        "import math\n",
        "p = (np.e**(-mu))*(mu**k)/math.factorial(k)\n",
        "print(f'A probabilidade de que entrem 20 clients na próxima hora na padoca é {p*100:.4} %')"
      ],
      "metadata": {
        "colab": {
          "base_uri": "https://localhost:8080/"
        },
        "id": "5VrumUsUTwWG",
        "outputId": "c4a6ea34-d525-471f-e5f1-9e8550614d20"
      },
      "execution_count": 9,
      "outputs": [
        {
          "output_type": "stream",
          "name": "stdout",
          "text": [
            "A probabilidade de que entrem 20 clients na próxima hora na padoca é 4.459 %\n",
            "A probabilidade de que entrem 20 clients na próxima hora na padoca é 4.459 %\n"
          ]
        }
      ]
    },
    {
      "cell_type": "markdown",
      "source": [
        "6. A aplicação de uma prova de estatística em um concurso apresentou um conjunto de notas normalmente distribuídas. Verificou-se que o conjunto de notas tinha média 70 e desvio padrão de 5 pontos.\n",
        "\n",
        "Qual a probabilidade de um aluno, selecionado ao acaso, ter nota menor que 85?"
      ],
      "metadata": {
        "id": "k1mz62cMXgBE"
      }
    },
    {
      "cell_type": "code",
      "source": [
        "from scipy.stats import norm\n",
        "media = 70\n",
        "desvio_padrao = 5\n",
        "z_calc = (85 - media)/desvio_padrao\n",
        "probabilidade = norm.cdf(z_calc) # valor para calcular diretamente na tabela.\n",
        "print(f'A probabilidade é {probabilidade*100:.4} %')"
      ],
      "metadata": {
        "colab": {
          "base_uri": "https://localhost:8080/"
        },
        "id": "ZdZwjJJTXt6o",
        "outputId": "903338d7-bf08-4037-dfd6-bb284aaf14cd"
      },
      "execution_count": 10,
      "outputs": [
        {
          "output_type": "stream",
          "name": "stdout",
          "text": [
            "A probabilidade é 99.87 %\n"
          ]
        }
      ]
    },
    {
      "cell_type": "markdown",
      "source": [
        "7. O faturamento diário de um motorista de aplicativo segue uma distribuição aproximadamente normal, com média `R$` 300,00 e desvio padrão igual a `R$` 50,00. Obtenha as probabilidades de que, em um dia aleatório, o motorista ganhe:\n",
        "\n",
        "    1-) Entre `R$` 250,00 e `R$` 350,00\n",
        "\n",
        "    2-) Entre `R$` 400,00 e `R$` 500,00\n"
      ],
      "metadata": {
        "id": "aZxuyWhbdcOv"
      }
    },
    {
      "cell_type": "code",
      "source": [
        "from scipy.stats import norm\n",
        "media = 300\n",
        "desvio_padrao = 50\n",
        "z_calc_350 = (350 - media)/desvio_padrao\n",
        "z_calc_250 = (250 - media)/desvio_padrao\n",
        "z_calc_500 = (500 - media)/desvio_padrao\n",
        "z_calc_400 = (400 - media)/desvio_padrao\n",
        "probabilidade = norm.cdf(z_calc_350)-norm.cdf(z_calc_250) # valor para calcular diretamente na tabela.\n",
        "probabilidade_2 = norm.cdf(z_calc_500)-norm.cdf(z_calc_400)\n",
        "print(f'A probabilidade da `a` é {probabilidade*100:.4} %')\n",
        "print(f'A probabilidade da `b` é {probabilidade_2*100:.4} %')"
      ],
      "metadata": {
        "colab": {
          "base_uri": "https://localhost:8080/"
        },
        "id": "yeyNVEAndlEs",
        "outputId": "34ab81e2-b047-4a26-a08f-decb71556e5b"
      },
      "execution_count": 11,
      "outputs": [
        {
          "output_type": "stream",
          "name": "stdout",
          "text": [
            "A probabilidade da `a` é 68.27 %\n",
            "A probabilidade da `b` é 2.272 %\n"
          ]
        }
      ]
    },
    {
      "cell_type": "markdown",
      "source": [
        "8. O Inmetro verificou que as lâmpadas incandescentes da fabricante XPTO apresentam uma vida útil normalmente distribuída, com média igual a 720 dias e desvio padrão igual a 30 dias. Calcule a probabilidade de uma lâmpada, escolhida ao acaso, durar:\n",
        "\n",
        "1) Entre 650 e 750 dias\n",
        "\n",
        "2) Mais que 800 dias\n",
        "\n",
        "3) Menos que 700 dias"
      ],
      "metadata": {
        "id": "JuoR--7gjeFL"
      }
    },
    {
      "cell_type": "code",
      "source": [
        "from scipy.stats import norm\n",
        "media = 720\n",
        "desvio_padrao = 30\n",
        "z_calc_650 = (650 - media)/desvio_padrao\n",
        "z_calc_750 = (750 - media)/desvio_padrao\n",
        "z_calc_800 = (800 - media)/desvio_padrao\n",
        "z_calc_700 = (700 - media)/desvio_padrao\n",
        "probabilidade = norm.cdf(z_calc_750)-norm.cdf(z_calc_650) # valor para calcular diretamente na tabela.\n",
        "probabilidade_2 = 1- norm.cdf(z_calc_800)\n",
        "probabilidade_3 = norm.cdf(z_calc_700)\n",
        "print(f'A probabilidade da `1` é {probabilidade*100:.4} %')\n",
        "print(f'A probabilidade da `2` é {probabilidade_2*100:.4} %')\n",
        "print(f'A probabilidade da `3` é {probabilidade_3*100:.4} %')"
      ],
      "metadata": {
        "colab": {
          "base_uri": "https://localhost:8080/"
        },
        "id": "-WEZ6FKujnwd",
        "outputId": "bbcb8e6c-3ab0-4ff1-fbee-85f5008cb114"
      },
      "execution_count": 12,
      "outputs": [
        {
          "output_type": "stream",
          "name": "stdout",
          "text": [
            "A probabilidade da `1` é 83.15 %\n",
            "A probabilidade da `2` é 0.383 %\n",
            "A probabilidade da `3` é 25.25 %\n"
          ]
        }
      ]
    },
    {
      "cell_type": "markdown",
      "source": [
        "9. Utilizando a tabela padronizada, ou o ferramental disponibilizado pelo Python, encontre a área sob a curva normal para os valores de Z abaixo:\n",
        "\n",
        "        1) Z < 1,96\n",
        "\n",
        "        2) Z > 2,15\n",
        "\n",
        "        3) Z < -0,78\n",
        "\n",
        "        4) Z > 0,59"
      ],
      "metadata": {
        "id": "cYIBqm_lkNdA"
      }
    },
    {
      "cell_type": "code",
      "source": [
        "norm.cdf(1.96) #1 sem ser porcentagem"
      ],
      "metadata": {
        "colab": {
          "base_uri": "https://localhost:8080/"
        },
        "id": "N0FH-jlGkkPg",
        "outputId": "7886a50a-c5c8-42d7-d21a-1833304e4b89"
      },
      "execution_count": 13,
      "outputs": [
        {
          "output_type": "execute_result",
          "data": {
            "text/plain": [
              "0.9750021048517795"
            ]
          },
          "metadata": {},
          "execution_count": 13
        }
      ]
    },
    {
      "cell_type": "code",
      "source": [
        "1 - norm.cdf(2.15) #2  sem ser porcentagem"
      ],
      "metadata": {
        "colab": {
          "base_uri": "https://localhost:8080/"
        },
        "id": "0O7XKsCTkxp5",
        "outputId": "3e7efb83-2a15-4b24-bc5b-445eeec1e5de"
      },
      "execution_count": 14,
      "outputs": [
        {
          "output_type": "execute_result",
          "data": {
            "text/plain": [
              "0.015777607391090465"
            ]
          },
          "metadata": {},
          "execution_count": 14
        }
      ]
    },
    {
      "cell_type": "code",
      "source": [
        "norm.cdf(-0.78) #3 sem ser porcentagem"
      ],
      "metadata": {
        "colab": {
          "base_uri": "https://localhost:8080/"
        },
        "id": "6ly2F4bhlHRj",
        "outputId": "b7cdf294-5c69-44b2-c85f-c05214700986"
      },
      "execution_count": 15,
      "outputs": [
        {
          "output_type": "execute_result",
          "data": {
            "text/plain": [
              "0.21769543758573312"
            ]
          },
          "metadata": {},
          "execution_count": 15
        }
      ]
    },
    {
      "cell_type": "code",
      "source": [
        "1 - norm.cdf(0.59) #4 sem ser porcentagem"
      ],
      "metadata": {
        "colab": {
          "base_uri": "https://localhost:8080/"
        },
        "id": "sQb_m2wUlVax",
        "outputId": "270149af-1585-4fa9-e78c-1850fac740a8"
      },
      "execution_count": 16,
      "outputs": [
        {
          "output_type": "execute_result",
          "data": {
            "text/plain": [
              "0.27759532475346493"
            ]
          },
          "metadata": {},
          "execution_count": 16
        }
      ]
    },
    {
      "cell_type": "markdown",
      "source": [
        "10.) Para estimar o valor médio gasto por cada cliente de uma grande rede de fast-food, foi selecionada uma amostra de 50 clientes.\n",
        "\n",
        "  Assumindo que o valor do desvio padrão da população seja de R$ 6,00 e que esta população se distribui normalmente, obtenha a margem de erro desta estimativa para um nível de confiança de 95%."
      ],
      "metadata": {
        "id": "vZw8CxwBz-ie"
      }
    },
    {
      "cell_type": "code",
      "source": [
        "n = 50\n",
        "desvio_padrao_populacional = 6\n",
        "confianca = 0.95\n",
        "z = norm.ppf(confianca+(1-confianca)/2)\n",
        "erro_padrao = desvio_padrao_populacional/np.sqrt(n)\n",
        "erro = z*erro_padrao\n",
        "erro\n"
      ],
      "metadata": {
        "colab": {
          "base_uri": "https://localhost:8080/"
        },
        "id": "0eJK-xUX0OUk",
        "outputId": "78a3dccf-a3a4-420a-bb4d-654b5fc6cd10"
      },
      "execution_count": 17,
      "outputs": [
        {
          "output_type": "execute_result",
          "data": {
            "text/plain": [
              "1.6630845892196133"
            ]
          },
          "metadata": {},
          "execution_count": 17
        }
      ]
    },
    {
      "cell_type": "markdown",
      "source": [
        "11.) Uma amostra aleatória simples de 1976 itens de uma população normalmente distribuída, com desvio padrão populacional igual a 11, resultou em uma média amostral de 28.\n",
        "Qual o intervalo de confiança de 90% para a média populacional?"
      ],
      "metadata": {
        "id": "wib3IHsI1dJe"
      }
    },
    {
      "cell_type": "code",
      "source": [
        "n = 1976\n",
        "desvio_padrao_populacional = 11\n",
        "media_amostral = 28\n",
        "confianca = 0.90\n",
        "z = norm.ppf(confianca+(1-confianca)/2)\n",
        "erro_padrao = desvio_padrao_populacional/np.sqrt(n)\n",
        "erro = z*erro_padrao\n",
        "\n",
        "intervalo =(\n",
        "  media_amostral - erro,\n",
        "  media_amostral + erro\n",
        "           )\n",
        "intervalo\n",
        "\n",
        "#ou\n",
        "\n",
        "norm.interval(confidence = confianca, loc = media_amostral, scale = erro_padrao)"
      ],
      "metadata": {
        "colab": {
          "base_uri": "https://localhost:8080/"
        },
        "id": "pcpFf3CU10J5",
        "outputId": "57f09bbd-a190-4f25-d90a-a1a9467fd050"
      },
      "execution_count": 19,
      "outputs": [
        {
          "output_type": "execute_result",
          "data": {
            "text/plain": [
              "(27.592969951356466, 28.407030048643534)"
            ]
          },
          "metadata": {},
          "execution_count": 19
        }
      ]
    },
    {
      "cell_type": "markdown",
      "source": [
        "12.) O valor do gasto médio dos clientes de uma loja de conveniência é de `R$` 45,50. Assumindo que o desvio padrão dos gastos é igual a `R$` 15,00, qual deve ser o tamanho da amostra para estimarmos a média populacional com um nível de significância de 10%?\n",
        "\n",
        "####Considere que o erro máximo aceitável seja de <font color='yellow'>10%."
      ],
      "metadata": {
        "id": "g9d3mb1R4o6L"
      }
    },
    {
      "cell_type": "code",
      "source": [
        "desvio_padrao_populacional = 15\n",
        "media = 45.5\n",
        "confianca = 0.9 #(1-significancia)\n",
        "erro_maximo = 0.10*media\n",
        "z = norm.ppf(confianca+(1-confianca)/2)\n",
        "n = (z*desvio_padrao_populacional/erro_maximo)**2\n",
        "int(n.round())\n"
      ],
      "metadata": {
        "colab": {
          "base_uri": "https://localhost:8080/"
        },
        "id": "8AuHfskp5AgC",
        "outputId": "d38dcaea-1aea-4b89-99d3-54bc486795eb"
      },
      "execution_count": 26,
      "outputs": [
        {
          "output_type": "execute_result",
          "data": {
            "text/plain": [
              "29"
            ]
          },
          "metadata": {},
          "execution_count": 26
        }
      ]
    },
    {
      "cell_type": "markdown",
      "source": [
        "13.) Um fabricante de farinha verificou que, em uma amostra aleatória formada por 200 sacos de 25 kg de um lote formado por 2.000 sacos, apresentou um desvio padrão amostral do peso igual a 480 g.\n",
        "\n",
        "Considerando um erro máximo associado à média populacional igual a 0,3 kg e um nível de confiança igual a 95%, qual tamanho de amostra deveria ser selecionado para obtermos uma estimativa confiável do parâmetro populacional?\n",
        "\n"
      ],
      "metadata": {
        "id": "U5gxKsuy7o0J"
      }
    },
    {
      "cell_type": "code",
      "source": [
        "n = 200\n",
        "N = 2000\n",
        "desvio_padrao_amostral = 480\n",
        "erro = 300 #gramas\n",
        "confianca = 0.95\n",
        "z = norm.ppf(confianca+(1-confianca)/2)\n",
        "n = (z**2*(desvio_padrao_amostral**2)*N)/(z**2*(desvio_padrao_amostral**2)+(erro**2)*(N-1))\n",
        "print(f'Aproximadamente {int(n.round())} sacos')"
      ],
      "metadata": {
        "colab": {
          "base_uri": "https://localhost:8080/"
        },
        "id": "tTC06Pz38Vi7",
        "outputId": "f0f70f16-669a-48f2-abc6-7c7879a953b4"
      },
      "execution_count": 27,
      "outputs": [
        {
          "output_type": "stream",
          "name": "stdout",
          "text": [
            "Aproximadamente 10 sacos\n"
          ]
        }
      ]
    }
  ]
}